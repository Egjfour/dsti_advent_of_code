{
 "cells": [
  {
   "cell_type": "code",
   "execution_count": 67,
   "metadata": {},
   "outputs": [],
   "source": [
    "import numpy as np\n",
    "from copy import deepcopy\n",
    "from collections import Counter"
   ]
  },
  {
   "cell_type": "code",
   "execution_count": 68,
   "metadata": {},
   "outputs": [],
   "source": [
    "input_str = \"\"\"47|53\n",
    "97|13\n",
    "97|61\n",
    "97|47\n",
    "75|29\n",
    "61|13\n",
    "75|53\n",
    "29|13\n",
    "97|29\n",
    "53|29\n",
    "61|53\n",
    "97|53\n",
    "61|29\n",
    "47|13\n",
    "75|47\n",
    "97|75\n",
    "47|61\n",
    "75|61\n",
    "47|29\n",
    "75|13\n",
    "53|13\n",
    "\n",
    "75,47,61,53,29\n",
    "97,61,53,29,13\n",
    "75,29,13\n",
    "75,97,47,61,53\n",
    "61,13,29\n",
    "97,13,75,29,47\n",
    "\"\"\""
   ]
  },
  {
   "cell_type": "code",
   "execution_count": 69,
   "metadata": {},
   "outputs": [],
   "source": [
    "# # My input\n",
    "# with open('puzzle_input.txt', 'r') as f:\n",
    "#     input_str = f.read()"
   ]
  },
  {
   "cell_type": "code",
   "execution_count": 70,
   "metadata": {},
   "outputs": [],
   "source": [
    "# Clean the input\n",
    "rules, pages = input_str.strip().split('\\n\\n')\n",
    "\n",
    "rules = rules.split('\\n')\n",
    "print_pages = pages.split('\\n')\n",
    "print_pages = [list(map(int, page.split(','))) for page in print_pages]"
   ]
  },
  {
   "cell_type": "code",
   "execution_count": 71,
   "metadata": {},
   "outputs": [],
   "source": [
    "# Create the tuples for each of the rules\n",
    "rules_tuples = [(int(rule.split('|')[0]), int(rule.split('|')[1])) for rule in rules]\n",
    "current_print_pages = deepcopy(print_pages[4])\n",
    "rules_tuples_filt = [rule for rule in rules_tuples if rule[0] in current_print_pages and rule[1] in current_print_pages]"
   ]
  },
  {
   "cell_type": "code",
   "execution_count": null,
   "metadata": {},
   "outputs": [
    {
     "data": {
      "text/plain": [
       "[13, 29]"
      ]
     },
     "execution_count": 95,
     "metadata": {},
     "output_type": "execute_result"
    }
   ],
   "source": [
    "lhs = [rule[0] for rule in rules_tuples_filt]\n",
    "lhs_counts = Counter(lhs)\n",
    "first_node = list(lhs_counts.keys())[0]\n",
    "\n",
    "idx = 1\n",
    "\n",
    "mapping = {first_node: 1}\n",
    "\n",
    "rhs = [rule[1] for rule in rules_tuples_filt if rule[0] == first_node]\n",
    "for val in rhs:\n",
    "    mapping[val] = 2"
   ]
  },
  {
   "cell_type": "code",
   "execution_count": 96,
   "metadata": {},
   "outputs": [
    {
     "data": {
      "text/plain": [
       "[13, 29]"
      ]
     },
     "execution_count": 96,
     "metadata": {},
     "output_type": "execute_result"
    }
   ],
   "source": [
    "rhs"
   ]
  },
  {
   "cell_type": "code",
   "execution_count": null,
   "metadata": {},
   "outputs": [
    {
     "data": {
      "text/plain": [
       "[13, 29]"
      ]
     },
     "execution_count": 93,
     "metadata": {},
     "output_type": "execute_result"
    }
   ],
   "source": []
  },
  {
   "cell_type": "code",
   "execution_count": 53,
   "metadata": {},
   "outputs": [],
   "source": [
    "def order_list_given_rules(rules_tuples, current_print_pages):\n",
    "    rules_tuples_filt = [rule for rule in rules_tuples if rule[0] in current_print_pages and rule[1] in current_print_pages]\n",
    "\n",
    "    for rule in rules_tuples_filt:\n",
    "        l_idx = np.where(current_print_pages == np.array(rule[0]))[0][0]\n",
    "        r_idx = np.where(current_print_pages == np.array(rule[1]))[0][0]\n",
    "\n",
    "        if r_idx < l_idx:\n",
    "            # r_val = current_print_pages.pop(r_idx)\n",
    "            # current_print_pages.insert(l_idx, r_val)\n",
    "            current_print_pages[l_idx], current_print_pages[r_idx] = current_print_pages[r_idx], current_print_pages[l_idx]\n",
    "    return current_print_pages"
   ]
  },
  {
   "cell_type": "markdown",
   "metadata": {},
   "source": [
    "# Part 1"
   ]
  },
  {
   "cell_type": "code",
   "execution_count": 54,
   "metadata": {},
   "outputs": [
    {
     "data": {
      "text/plain": [
       "4689"
      ]
     },
     "execution_count": 54,
     "metadata": {},
     "output_type": "execute_result"
    }
   ],
   "source": [
    "total_of_middle_nums = 0\n",
    "\n",
    "for page_idx, current_print_order in enumerate(print_pages):\n",
    "    reordered_current_print_order = order_list_given_rules(rules_tuples, deepcopy(current_print_order))\n",
    "    is_correct_order = reordered_current_print_order == current_print_order\n",
    "    if is_correct_order:\n",
    "\n",
    "        middle_idx = len(current_print_order)/2 - 0.5\n",
    "        middle_num = current_print_order[int(middle_idx)]\n",
    "        total_of_middle_nums += middle_num\n",
    "\n",
    "total_of_middle_nums"
   ]
  },
  {
   "cell_type": "markdown",
   "metadata": {},
   "source": [
    "# Part 2"
   ]
  },
  {
   "cell_type": "code",
   "execution_count": 56,
   "metadata": {},
   "outputs": [
    {
     "ename": "ValueError",
     "evalue": "Something went wrong at page 0",
     "output_type": "error",
     "traceback": [
      "\u001b[1;31m---------------------------------------------------------------------------\u001b[0m",
      "\u001b[1;31mValueError\u001b[0m                                Traceback (most recent call last)",
      "Cell \u001b[1;32mIn[56], line 8\u001b[0m\n\u001b[0;32m      6\u001b[0m reordered_current_print_order2 \u001b[38;5;241m=\u001b[39m order_list_given_rules(rules_tuples, deepcopy(reordered_current_print_order))\n\u001b[0;32m      7\u001b[0m \u001b[38;5;28;01mif\u001b[39;00m reordered_current_print_order2 \u001b[38;5;241m!=\u001b[39m current_print_order:\n\u001b[1;32m----> 8\u001b[0m     \u001b[38;5;28;01mraise\u001b[39;00m \u001b[38;5;167;01mValueError\u001b[39;00m(\u001b[38;5;124mf\u001b[39m\u001b[38;5;124m'\u001b[39m\u001b[38;5;124mSomething went wrong at page \u001b[39m\u001b[38;5;132;01m{\u001b[39;00mpage_idx\u001b[38;5;132;01m}\u001b[39;00m\u001b[38;5;124m'\u001b[39m)\n\u001b[0;32m      9\u001b[0m is_correct_order \u001b[38;5;241m=\u001b[39m reordered_current_print_order \u001b[38;5;241m==\u001b[39m current_print_order\n\u001b[0;32m     10\u001b[0m \u001b[38;5;28;01mif\u001b[39;00m \u001b[38;5;129;01mnot\u001b[39;00m is_correct_order:\n",
      "\u001b[1;31mValueError\u001b[0m: Something went wrong at page 0"
     ]
    }
   ],
   "source": [
    "total_of_middle_nums = 0\n",
    "new_list = []\n",
    "\n",
    "for page_idx, current_print_order in enumerate(print_pages[1:2]):\n",
    "    reordered_current_print_order = order_list_given_rules(rules_tuples, deepcopy(current_print_order))\n",
    "    reordered_current_print_order2 = order_list_given_rules(rules_tuples, deepcopy(reordered_current_print_order))\n",
    "    if reordered_current_print_order2 != current_print_order:\n",
    "        raise ValueError(f'Something went wrong at page {page_idx}')\n",
    "    is_correct_order = reordered_current_print_order == current_print_order\n",
    "    if not is_correct_order:\n",
    "        middle_idx = len(current_print_order)/2 - 0.5\n",
    "        middle_num = reordered_current_print_order[int(middle_idx)]\n",
    "        total_of_middle_nums += middle_num\n",
    "\n",
    "total_of_middle_nums"
   ]
  },
  {
   "cell_type": "code",
   "execution_count": null,
   "metadata": {},
   "outputs": [],
   "source": []
  },
  {
   "cell_type": "code",
   "execution_count": null,
   "metadata": {},
   "outputs": [],
   "source": []
  },
  {
   "cell_type": "code",
   "execution_count": null,
   "metadata": {},
   "outputs": [],
   "source": []
  }
 ],
 "metadata": {
  "kernelspec": {
   "display_name": "Python 3",
   "language": "python",
   "name": "python3"
  },
  "language_info": {
   "codemirror_mode": {
    "name": "ipython",
    "version": 3
   },
   "file_extension": ".py",
   "mimetype": "text/x-python",
   "name": "python",
   "nbconvert_exporter": "python",
   "pygments_lexer": "ipython3",
   "version": "3.11.5"
  }
 },
 "nbformat": 4,
 "nbformat_minor": 2
}
