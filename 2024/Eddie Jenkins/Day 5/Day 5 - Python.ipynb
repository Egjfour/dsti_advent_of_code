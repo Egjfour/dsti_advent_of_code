{
 "cells": [
  {
   "cell_type": "code",
   "execution_count": 1,
   "metadata": {},
   "outputs": [],
   "source": [
    "import numpy as np\n",
    "from copy import deepcopy\n",
    "from collections import Counter"
   ]
  },
  {
   "cell_type": "code",
   "execution_count": 2,
   "metadata": {},
   "outputs": [],
   "source": [
    "input_str = \"\"\"47|53\n",
    "97|13\n",
    "97|61\n",
    "97|47\n",
    "75|29\n",
    "61|13\n",
    "75|53\n",
    "29|13\n",
    "97|29\n",
    "53|29\n",
    "61|53\n",
    "97|53\n",
    "61|29\n",
    "47|13\n",
    "75|47\n",
    "97|75\n",
    "47|61\n",
    "75|61\n",
    "47|29\n",
    "75|13\n",
    "53|13\n",
    "\n",
    "75,47,61,53,29\n",
    "97,61,53,29,13\n",
    "75,29,13\n",
    "75,97,47,61,53\n",
    "61,13,29\n",
    "97,13,75,29,47\n",
    "\"\"\""
   ]
  },
  {
   "cell_type": "code",
   "execution_count": 41,
   "metadata": {},
   "outputs": [],
   "source": [
    "# My input\n",
    "with open('puzzle_input.txt', 'r') as f:\n",
    "    input_str = f.read()"
   ]
  },
  {
   "cell_type": "code",
   "execution_count": 42,
   "metadata": {},
   "outputs": [],
   "source": [
    "# Clean the input\n",
    "rules, pages = input_str.strip().split('\\n\\n')\n",
    "\n",
    "rules = rules.split('\\n')\n",
    "print_pages = pages.split('\\n')\n",
    "print_pages = [list(map(int, page.split(','))) for page in print_pages]"
   ]
  },
  {
   "cell_type": "code",
   "execution_count": 43,
   "metadata": {},
   "outputs": [],
   "source": [
    "# Create the tuples for each of the rules\n",
    "rules_tuples = [(int(rule.split('|')[0]), int(rule.split('|')[1])) for rule in rules]"
   ]
  },
  {
   "cell_type": "code",
   "execution_count": 45,
   "metadata": {},
   "outputs": [],
   "source": [
    "def order_list_given_rules(rules_tuples, current_print_pages):\n",
    "    rules_tuples_filt = [rule for rule in rules_tuples if rule[0] in current_print_pages and rule[1] in current_print_pages]\n",
    "\n",
    "    pages_ordered = []\n",
    "    for idx, page in enumerate(current_print_pages):\n",
    "        if len(pages_ordered) == 0:\n",
    "            pages_ordered.append(page)\n",
    "            continue\n",
    "\n",
    "        comes_before = [rule[1] for rule in rules_tuples_filt if rule[0] == page and rule[1] in pages_ordered]\n",
    "        comes_after = [rule[0] for rule in rules_tuples_filt if rule[1] == page and rule[1] in pages_ordered]\n",
    "\n",
    "        comes_before_idxs = [idx] if len(comes_before) == 0 else np.where(np.array([x in comes_before for x in pages_ordered]))[0]\n",
    "        comes_after_idxs = [idx] if len(comes_after) == 0 else np.where(np.array([x in comes_after for x in pages_ordered]))[0]\n",
    "\n",
    "        comes_before_idx = min(comes_before_idxs)\n",
    "        comes_after_idx = max(comes_after_idxs)\n",
    "\n",
    "        pages_ordered.insert(min([comes_before_idx, comes_after_idx]), page)\n",
    "\n",
    "    return pages_ordered"
   ]
  },
  {
   "cell_type": "markdown",
   "metadata": {},
   "source": [
    "# Part 1"
   ]
  },
  {
   "cell_type": "code",
   "execution_count": 46,
   "metadata": {},
   "outputs": [
    {
     "data": {
      "text/plain": [
       "4689"
      ]
     },
     "execution_count": 46,
     "metadata": {},
     "output_type": "execute_result"
    }
   ],
   "source": [
    "total_of_middle_nums = 0\n",
    "\n",
    "for page_idx, current_print_order in enumerate(print_pages):\n",
    "    reordered_current_print_order = order_list_given_rules(rules_tuples, deepcopy(current_print_order))\n",
    "    is_correct_order = reordered_current_print_order == current_print_order\n",
    "    if is_correct_order:\n",
    "\n",
    "        middle_idx = len(current_print_order)/2 - 0.5\n",
    "        middle_num = current_print_order[int(middle_idx)]\n",
    "        total_of_middle_nums += middle_num\n",
    "\n",
    "total_of_middle_nums"
   ]
  },
  {
   "cell_type": "markdown",
   "metadata": {},
   "source": [
    "# Part 2"
   ]
  },
  {
   "cell_type": "code",
   "execution_count": 47,
   "metadata": {},
   "outputs": [
    {
     "data": {
      "text/plain": [
       "6336"
      ]
     },
     "execution_count": 47,
     "metadata": {},
     "output_type": "execute_result"
    }
   ],
   "source": [
    "total_of_middle_nums = 0\n",
    "\n",
    "for page_idx, current_print_order in enumerate(print_pages):\n",
    "    reordered_current_print_order = order_list_given_rules(rules_tuples, deepcopy(current_print_order))\n",
    "    is_correct_order = reordered_current_print_order == current_print_order\n",
    "    if not is_correct_order:\n",
    "        middle_idx = len(current_print_order)/2 - 0.5\n",
    "        middle_num = reordered_current_print_order[int(middle_idx)]\n",
    "        total_of_middle_nums += middle_num\n",
    "\n",
    "total_of_middle_nums"
   ]
  },
  {
   "cell_type": "code",
   "execution_count": null,
   "metadata": {},
   "outputs": [],
   "source": []
  },
  {
   "cell_type": "code",
   "execution_count": null,
   "metadata": {},
   "outputs": [],
   "source": []
  }
 ],
 "metadata": {
  "kernelspec": {
   "display_name": ".venv",
   "language": "python",
   "name": "python3"
  },
  "language_info": {
   "codemirror_mode": {
    "name": "ipython",
    "version": 3
   },
   "file_extension": ".py",
   "mimetype": "text/x-python",
   "name": "python",
   "nbconvert_exporter": "python",
   "pygments_lexer": "ipython3",
   "version": "3.11.2"
  }
 },
 "nbformat": 4,
 "nbformat_minor": 2
}
