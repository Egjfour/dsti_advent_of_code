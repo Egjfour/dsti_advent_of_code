{
 "cells": [
  {
   "cell_type": "code",
   "execution_count": 153,
   "metadata": {},
   "outputs": [],
   "source": [
    "import numpy as np\n",
    "from copy import deepcopy"
   ]
  },
  {
   "cell_type": "code",
   "execution_count": 154,
   "metadata": {},
   "outputs": [],
   "source": [
    "input_str = \"\"\"47|53\n",
    "97|13\n",
    "97|61\n",
    "97|47\n",
    "75|29\n",
    "61|13\n",
    "75|53\n",
    "29|13\n",
    "97|29\n",
    "53|29\n",
    "61|53\n",
    "97|53\n",
    "61|29\n",
    "47|13\n",
    "75|47\n",
    "97|75\n",
    "47|61\n",
    "75|61\n",
    "47|29\n",
    "75|13\n",
    "53|13\n",
    "\n",
    "75,47,61,53,29\n",
    "97,61,53,29,13\n",
    "75,29,13\n",
    "75,97,47,61,53\n",
    "61,13,29\n",
    "97,13,75,29,47\n",
    "\"\"\""
   ]
  },
  {
   "cell_type": "code",
   "execution_count": 155,
   "metadata": {},
   "outputs": [],
   "source": [
    "# # My input\n",
    "# with open('puzzle_input.txt', 'r') as f:\n",
    "#     input_str = f.read()"
   ]
  },
  {
   "cell_type": "code",
   "execution_count": 156,
   "metadata": {},
   "outputs": [],
   "source": [
    "# Clean the input\n",
    "rules, pages = input_str.strip().split('\\n\\n')\n",
    "\n",
    "rules = rules.split('\\n')\n",
    "print_pages = pages.split('\\n')\n",
    "print_pages = [list(map(int, page.split(','))) for page in print_pages]"
   ]
  },
  {
   "cell_type": "code",
   "execution_count": 157,
   "metadata": {},
   "outputs": [],
   "source": [
    "# Create the tuples for each of the rules\n",
    "rules_tuples = [(int(rule.split('|')[0]), int(rule.split('|')[1])) for rule in rules]"
   ]
  },
  {
   "cell_type": "code",
   "execution_count": 158,
   "metadata": {},
   "outputs": [],
   "source": [
    "priority_mapping = {}\n",
    "for rule in rules_tuples:\n",
    "    if rule[0] not in priority_mapping:\n",
    "        priority_mapping[rule[0]] = []\n",
    "    priority_mapping[rule[0]].append(rule[1])"
   ]
  },
  {
   "cell_type": "code",
   "execution_count": 173,
   "metadata": {},
   "outputs": [],
   "source": [
    "def order_list_given_rules(priority_mapping, current_print_pages):\n",
    "    for idx, page in enumerate(current_print_pages):\n",
    "        if page in priority_mapping.keys():\n",
    "            elements_to_move_idx = [i for i, x in enumerate(current_print_pages) if x in priority_mapping[page] and i < idx]\n",
    "            lhs = current_print_pages[:idx+1]\n",
    "            rhs = current_print_pages[idx+1:]\n",
    "            for i in elements_to_move_idx:\n",
    "                lhs = lhs[:i] + lhs[i+1:] + lhs[i:i+1]\n",
    "\n",
    "            current_print_pages = lhs + rhs\n",
    "    return current_print_pages"
   ]
  },
  {
   "cell_type": "markdown",
   "metadata": {},
   "source": [
    "# Part 1"
   ]
  },
  {
   "cell_type": "code",
   "execution_count": 174,
   "metadata": {},
   "outputs": [
    {
     "data": {
      "text/plain": [
       "143"
      ]
     },
     "execution_count": 174,
     "metadata": {},
     "output_type": "execute_result"
    }
   ],
   "source": [
    "total_of_middle_nums = 0\n",
    "\n",
    "for page_idx, current_print_order in enumerate(print_pages):\n",
    "    reordered_current_print_order = order_list_given_rules(priority_mapping, deepcopy(current_print_order))\n",
    "    is_correct_order = reordered_current_print_order == current_print_order\n",
    "    if is_correct_order:\n",
    "\n",
    "        middle_idx = len(current_print_order)/2 - 0.5\n",
    "        middle_num = current_print_order[int(middle_idx)]\n",
    "        total_of_middle_nums += middle_num\n",
    "\n",
    "total_of_middle_nums"
   ]
  },
  {
   "cell_type": "markdown",
   "metadata": {},
   "source": [
    "# Part 2"
   ]
  },
  {
   "cell_type": "code",
   "execution_count": 175,
   "metadata": {},
   "outputs": [
    {
     "data": {
      "text/plain": [
       "89"
      ]
     },
     "execution_count": 175,
     "metadata": {},
     "output_type": "execute_result"
    }
   ],
   "source": [
    "total_of_middle_nums = 0\n",
    "\n",
    "for page_idx, current_print_order in enumerate(print_pages):\n",
    "    reordered_current_print_order = order_list_given_rules(priority_mapping, deepcopy(current_print_order))\n",
    "    is_correct_order = reordered_current_print_order == current_print_order\n",
    "    if not is_correct_order:\n",
    "\n",
    "        middle_idx = len(current_print_order)/2 - 0.5\n",
    "        middle_num = reordered_current_print_order[int(middle_idx)]\n",
    "        total_of_middle_nums += middle_num\n",
    "\n",
    "total_of_middle_nums"
   ]
  },
  {
   "cell_type": "code",
   "execution_count": 179,
   "metadata": {},
   "outputs": [
    {
     "data": {
      "text/plain": [
       "[97, 75, 13, 29, 47]"
      ]
     },
     "execution_count": 179,
     "metadata": {},
     "output_type": "execute_result"
    }
   ],
   "source": [
    "order_list_given_rules(priority_mapping, print_pages[5])"
   ]
  },
  {
   "cell_type": "code",
   "execution_count": 177,
   "metadata": {},
   "outputs": [
    {
     "data": {
      "text/plain": [
       "[97, 13, 75, 29, 47]"
      ]
     },
     "execution_count": 177,
     "metadata": {},
     "output_type": "execute_result"
    }
   ],
   "source": [
    "print_pages[5]"
   ]
  },
  {
   "cell_type": "code",
   "execution_count": 178,
   "metadata": {},
   "outputs": [
    {
     "data": {
      "text/plain": [
       "{47: [53, 13, 61, 29],\n",
       " 97: [13, 61, 47, 29, 53, 75],\n",
       " 75: [29, 53, 47, 61, 13],\n",
       " 61: [13, 53, 29],\n",
       " 29: [13],\n",
       " 53: [29, 13]}"
      ]
     },
     "execution_count": 178,
     "metadata": {},
     "output_type": "execute_result"
    }
   ],
   "source": [
    "priority_mapping"
   ]
  },
  {
   "cell_type": "code",
   "execution_count": null,
   "metadata": {},
   "outputs": [],
   "source": []
  }
 ],
 "metadata": {
  "kernelspec": {
   "display_name": ".venv",
   "language": "python",
   "name": "python3"
  },
  "language_info": {
   "codemirror_mode": {
    "name": "ipython",
    "version": 3
   },
   "file_extension": ".py",
   "mimetype": "text/x-python",
   "name": "python",
   "nbconvert_exporter": "python",
   "pygments_lexer": "ipython3",
   "version": "3.11.2"
  }
 },
 "nbformat": 4,
 "nbformat_minor": 2
}
