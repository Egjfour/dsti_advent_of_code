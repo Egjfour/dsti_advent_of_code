{
 "cells": [
  {
   "cell_type": "code",
   "execution_count": 1,
   "metadata": {
    "vscode": {
     "languageId": "r"
    }
   },
   "outputs": [],
   "source": [
    "pacman::p_load(readr, rlist, stringr, purrr, tidyr, data.table, dplyr)"
   ]
  },
  {
   "cell_type": "code",
   "execution_count": 52,
   "metadata": {
    "vscode": {
     "languageId": "r"
    }
   },
   "outputs": [],
   "source": [
    "input_str <- \"..........\n",
    "...#......\n",
    "..........\n",
    "....a.....\n",
    "..........\n",
    "....a.....\n",
    "..........\n",
    "......#...\n",
    "..........\n",
    "..........\""
   ]
  },
  {
   "cell_type": "code",
   "execution_count": 53,
   "metadata": {
    "vscode": {
     "languageId": "r"
    }
   },
   "outputs": [],
   "source": [
    "input_str <- read_file(\"puzzle_input.txt\")"
   ]
  },
  {
   "cell_type": "code",
   "execution_count": 54,
   "metadata": {
    "vscode": {
     "languageId": "r"
    }
   },
   "outputs": [],
   "source": [
    "input_str_clean <- str_split(input_str, \"\\n\")[[1]] %>% list.filter(. != '')\n",
    "\n",
    "ncols <- nchar(input_str_clean[1])\n",
    "input_mat <- matrix(unlist(strsplit(input_str_clean, \"\")), nrow = length(input_str_clean), byrow = TRUE)\n",
    "\n",
    "antenae_types <- input_str_clean %>% str_split(\"\\n\") %>% unlist() %>% str_extract_all(\"[^\\\\.|#]\") %>% unlist() %>% unique()"
   ]
  },
  {
   "cell_type": "markdown",
   "metadata": {
    "vscode": {
     "languageId": "r"
    }
   },
   "source": [
    "# Part 1"
   ]
  },
  {
   "cell_type": "code",
   "execution_count": null,
   "metadata": {
    "vscode": {
     "languageId": "r"
    }
   },
   "outputs": [],
   "source": [
    "# nolint start\n",
    "find_antinodes_for_antenae_type <- function(input_mat, current_type){\n",
    "    antenae_positions <- which(input_mat == current_type, arr.ind = TRUE) %>% as.data.table %>% set_names(c(\"row\", \"col\"))\n",
    "    compare_coords <- tidyr::crossing(antenae_positions, antenae_positions %>% set_names(c(\"row2\", \"col2\"))) %>% as.data.table %>%\n",
    "                         .[!(row == row2 & col == col2)]\n",
    "\n",
    "    compare_coords[, slope := (row2 - row) / (col2 - col)]\n",
    "    compare_coords[, delta_x := col2 - col]\n",
    "    compare_coords[, delta_y := row2 - row]\n",
    "\n",
    "    compare_coords[, next_position_row := case_when(is.finite(slope) ~ row2 + delta_x * slope,\n",
    "                                                    TRUE ~ row2 + delta_y)]\n",
    "    compare_coords[, next_position_col := col2 + delta_x]\n",
    "\n",
    "    # Need to round because of floating point errors with the slope calculation\n",
    "    compare_coords[, IsValid := round(next_position_row, 2) %in% 1:nrow(input_mat) & round(next_position_col, 2) %in% 1:ncol(input_mat)]\n",
    "\n",
    "    return(compare_coords)\n",
    "}\n"
   ]
  },
  {
   "cell_type": "code",
   "execution_count": 176,
   "metadata": {
    "vscode": {
     "languageId": "r"
    }
   },
   "outputs": [],
   "source": [
    "all_results <- antenae_types %>% map_dfr(function(current_type){\n",
    "    antinodes <- find_antinodes_for_antenae_type(input_mat, current_type)\n",
    "    antinodes[, antenae_type := current_type]\n",
    "})"
   ]
  },
  {
   "cell_type": "code",
   "execution_count": 177,
   "metadata": {
    "vscode": {
     "languageId": "r"
    }
   },
   "outputs": [
    {
     "data": {
      "text/html": [
       "371"
      ],
      "text/latex": [
       "371"
      ],
      "text/markdown": [
       "371"
      ],
      "text/plain": [
       "[1] 371"
      ]
     },
     "metadata": {},
     "output_type": "display_data"
    }
   ],
   "source": [
    "all_results[(IsValid), .(next_position_row, next_position_col, IsValid)] %>%\n",
    "    unique()%>% .[, sum(IsValid)]"
   ]
  },
  {
   "cell_type": "markdown",
   "metadata": {
    "vscode": {
     "languageId": "r"
    }
   },
   "source": [
    "# Part 2"
   ]
  },
  {
   "cell_type": "code",
   "execution_count": 199,
   "metadata": {
    "vscode": {
     "languageId": "r"
    }
   },
   "outputs": [],
   "source": [
    "# nolint start\n",
    "find_antinodes_for_antenae_type <- function(input_mat, current_type){\n",
    "    antenae_positions <- which(input_mat == current_type, arr.ind = TRUE) %>% as.data.table %>% set_names(c(\"row\", \"col\"))\n",
    "    compare_coords <- tidyr::crossing(antenae_positions, antenae_positions %>% set_names(c(\"row2\", \"col2\"))) %>% as.data.table %>%\n",
    "                         .[!(row == row2 & col == col2)]\n",
    "\n",
    "    compare_coords[, delta_x := col - col2]\n",
    "    compare_coords[, delta_y := row - row2]\n",
    "\n",
    "    compare_coords <- tidyr::crossing(compare_coords, data.table(resonance = -ncol(input_mat):ncol(input_mat))) %>% as.data.table\n",
    "\n",
    "    compare_coords[, next_position_row := row + delta_y * resonance]\n",
    "    compare_coords[, next_position_col := col + delta_x * resonance]\n",
    "\n",
    "    compare_coords[, IsValid := next_position_row %in% 1:nrow(input_mat) & next_position_col %in% 1:ncol(input_mat)]\n",
    "\n",
    "    return(compare_coords)\n",
    "}\n"
   ]
  },
  {
   "cell_type": "code",
   "execution_count": 200,
   "metadata": {
    "vscode": {
     "languageId": "r"
    }
   },
   "outputs": [],
   "source": [
    "all_results <- antenae_types %>% map_dfr(function(current_type){\n",
    "    antinodes <- find_antinodes_for_antenae_type(input_mat, current_type)\n",
    "    antinodes[, antenae_type := current_type]\n",
    "})"
   ]
  },
  {
   "cell_type": "code",
   "execution_count": 201,
   "metadata": {
    "vscode": {
     "languageId": "r"
    }
   },
   "outputs": [
    {
     "data": {
      "text/html": [
       "1229"
      ],
      "text/latex": [
       "1229"
      ],
      "text/markdown": [
       "1229"
      ],
      "text/plain": [
       "[1] 1229"
      ]
     },
     "metadata": {},
     "output_type": "display_data"
    }
   ],
   "source": [
    "all_results[(IsValid), .(next_position_row, next_position_col, IsValid)] %>%\n",
    "    unique() %>% .[, sum(IsValid)]"
   ]
  },
  {
   "cell_type": "code",
   "execution_count": null,
   "metadata": {
    "vscode": {
     "languageId": "r"
    }
   },
   "outputs": [],
   "source": []
  }
 ],
 "metadata": {
  "kernelspec": {
   "display_name": "R",
   "language": "R",
   "name": "ir"
  },
  "language_info": {
   "codemirror_mode": "r",
   "file_extension": ".r",
   "mimetype": "text/x-r-source",
   "name": "R",
   "pygments_lexer": "r",
   "version": "4.4.0"
  }
 },
 "nbformat": 4,
 "nbformat_minor": 2
}
