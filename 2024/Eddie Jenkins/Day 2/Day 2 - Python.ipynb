{
 "cells": [
  {
   "cell_type": "code",
   "execution_count": 220,
   "metadata": {},
   "outputs": [],
   "source": [
    "import pandas as pd\n",
    "import numpy as np\n",
    "from copy import deepcopy"
   ]
  },
  {
   "cell_type": "code",
   "execution_count": 238,
   "metadata": {},
   "outputs": [],
   "source": [
    "input_str = \"\"\"7 6 4 2 1\n",
    "1 2 7 8 9\n",
    "9 7 6 2 1\n",
    "1 3 2 4 5\n",
    "8 6 4 4 1\n",
    "1 3 6 7 9\"\"\""
   ]
  },
  {
   "cell_type": "code",
   "execution_count": 247,
   "metadata": {},
   "outputs": [],
   "source": [
    "with open('puzzle_input.txt', 'r') as f:\n",
    "    input_str = f.read()"
   ]
  },
  {
   "cell_type": "markdown",
   "metadata": {},
   "source": [
    "# Part 1"
   ]
  },
  {
   "cell_type": "code",
   "execution_count": 248,
   "metadata": {},
   "outputs": [],
   "source": [
    "input_separated = input_str.split('\\n')\n",
    "input_separated = [list(map(int, x.split())) for x in input_separated]"
   ]
  },
  {
   "cell_type": "code",
   "execution_count": 249,
   "metadata": {},
   "outputs": [],
   "source": [
    "def check_is_safe(input_list): \n",
    "    max_diff = pd.Series(input_list).diff().abs().dropna().max()\n",
    "    min_diff = pd.Series(input_list).diff().abs().dropna().min()\n",
    "    sign_array = np.sign(pd.Series(input_list).diff().dropna())\n",
    "    same_directon = sign_array.unique().shape[0] == 1\n",
    "\n",
    "    if max_diff <= 3 and min_diff >= 0 and same_directon:\n",
    "        return True\n",
    "    else:\n",
    "        return False"
   ]
  },
  {
   "cell_type": "code",
   "execution_count": 250,
   "metadata": {},
   "outputs": [
    {
     "data": {
      "text/plain": [
       "False    610\n",
       "True     390\n",
       "Name: count, dtype: int64"
      ]
     },
     "execution_count": 250,
     "metadata": {},
     "output_type": "execute_result"
    }
   ],
   "source": [
    "is_safe = [check_is_safe(x) for x in input_separated]\n",
    "\n",
    "pd.Series(is_safe).value_counts()"
   ]
  },
  {
   "cell_type": "markdown",
   "metadata": {},
   "source": [
    "# Part 2"
   ]
  },
  {
   "cell_type": "code",
   "execution_count": null,
   "metadata": {},
   "outputs": [],
   "source": [
    "def check_is_safe_with_tolerance(input_list):\n",
    "    abs_diffs = pd.Series(input_list).diff().abs().dropna()\n",
    "    sign_array = np.sign(pd.Series(input_list).diff().dropna())\n",
    "\n",
    "    is_valid_diff = (abs_diffs <= 3) & (abs_diffs >= 1)\n",
    "\n",
    "    primary_sign = sign_array.value_counts().sort_values(ascending=False).index[0]\n",
    "    is_valid_sign = (sign_array == primary_sign)\n",
    "\n",
    "    is_valid = is_valid_diff & is_valid_sign\n",
    "\n",
    "    # if all are valid, return True\n",
    "    if is_valid.all():\n",
    "        return True\n",
    "\n",
    "    delete_index = int(is_valid.loc[is_valid == False].index[0])\n",
    "    attempt_1 = input_list[:delete_index] + input_list[delete_index+1:]\n",
    "    delete_index -= 1\n",
    "    attempt_2 = input_list[:delete_index] + input_list[delete_index+1:]\n",
    "\n",
    "    return check_is_safe(attempt_1) or check_is_safe(attempt_2)\n"
   ]
  },
  {
   "cell_type": "code",
   "execution_count": 271,
   "metadata": {},
   "outputs": [
    {
     "data": {
      "text/plain": [
       "False    561\n",
       "True     439\n",
       "Name: count, dtype: int64"
      ]
     },
     "execution_count": 271,
     "metadata": {},
     "output_type": "execute_result"
    }
   ],
   "source": [
    "is_safe2 = [check_is_safe_with_tolerance(deepcopy(x)) for x in input_separated]\n",
    "\n",
    "pd.Series(is_safe2).value_counts()"
   ]
  },
  {
   "cell_type": "code",
   "execution_count": null,
   "metadata": {},
   "outputs": [],
   "source": []
  }
 ],
 "metadata": {
  "kernelspec": {
   "display_name": ".venv",
   "language": "python",
   "name": "python3"
  },
  "language_info": {
   "codemirror_mode": {
    "name": "ipython",
    "version": 3
   },
   "file_extension": ".py",
   "mimetype": "text/x-python",
   "name": "python",
   "nbconvert_exporter": "python",
   "pygments_lexer": "ipython3",
   "version": "3.11.2"
  }
 },
 "nbformat": 4,
 "nbformat_minor": 2
}
