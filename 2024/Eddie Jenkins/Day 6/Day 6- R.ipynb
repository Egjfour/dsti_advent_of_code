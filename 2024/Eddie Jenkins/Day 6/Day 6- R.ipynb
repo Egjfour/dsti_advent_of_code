{
 "cells": [
  {
   "cell_type": "code",
   "execution_count": 16,
   "metadata": {
    "vscode": {
     "languageId": "r"
    }
   },
   "outputs": [],
   "source": [
    "pacman::p_load(readr, purrr, rlist, stringr, data.table)"
   ]
  },
  {
   "cell_type": "code",
   "execution_count": 17,
   "metadata": {
    "vscode": {
     "languageId": "r"
    }
   },
   "outputs": [],
   "source": [
    "input_str <- \"....#.....\n",
    ".........#\n",
    "..........\n",
    "..#.......\n",
    ".......#..\n",
    "..........\n",
    ".#..^.....\n",
    "........#.\n",
    "#.........\n",
    "......#...\""
   ]
  },
  {
   "cell_type": "code",
   "execution_count": 18,
   "metadata": {
    "vscode": {
     "languageId": "r"
    }
   },
   "outputs": [],
   "source": [
    "ncols <- input_str %>% str_split(\"\\n\") %>% .[[1]] %>% nchar %>% unique\n",
    "\n",
    "input_mat <- matrix(input_str %>% str_replace_all(\"\\n\", \"\") %>% str_split(\"\") %>% .[[1]], ncol = ncols, byrow = TRUE)"
   ]
  },
  {
   "cell_type": "code",
   "execution_count": 19,
   "metadata": {
    "vscode": {
     "languageId": "r"
    }
   },
   "outputs": [],
   "source": [
    "start_pos <- which(input_mat == '^', arr.ind=TRUE)"
   ]
  },
  {
   "cell_type": "code",
   "execution_count": 20,
   "metadata": {
    "vscode": {
     "languageId": "r"
    }
   },
   "outputs": [],
   "source": [
    "hashtags_pos <- which(input_mat == '#', arr.ind=TRUE) %>% as.data.table"
   ]
  },
  {
   "cell_type": "code",
   "execution_count": null,
   "metadata": {
    "vscode": {
     "languageId": "r"
    }
   },
   "outputs": [],
   "source": [
    "find_next_location <- function(pos, hashtags_pos, direction) {\n",
    "  row_current <- pos[1]\n",
    "  col_current <- pos[2]\n",
    "  visited[row_current, col_current] <<- TRUE\n",
    "  \n",
    "  if (direction == 'up') {\n",
    "    next_pos <- as.matrix(hashtags_pos[col == col_current & row < row_current][order(-row)][1])\n",
    "    next_pos[1] <- next_pos[1] + 1\n",
    "    if(is.na(next_pos[1])){\n",
    "      visited[1 : row_current, col_current] <<- TRUE\n",
    "    } else{\n",
    "      visited[next_pos[1] : row_current, col_current] <<- TRUE\n",
    "    }\n",
    "  } else if (direction == 'down') {\n",
    "    next_pos <- as.matrix(hashtags_pos[col == col_current & row > row_current][order(row)][1])\n",
    "    next_pos[1] <- next_pos[1] - 1\n",
    "    if(is.na(next_pos[1])){\n",
    "      visited[row_current:nrow(visited), col_current] <<- TRUE\n",
    "    } else{\n",
    "      visited[row_current:next_pos[1], col_current] <<- TRUE\n",
    "    }\n",
    "  } else if (direction == 'left') {\n",
    "    next_pos <- as.matrix(hashtags_pos[col < col_current & row == row_current][order(-col)][1])\n",
    "    next_pos[2] <- next_pos[2] + 1\n",
    "    if(is.na(next_pos[1])){\n",
    "      visited[row_current, next_pos[2]:col_current] <<- TRUE\n",
    "    } else{\n",
    "      visited[row_current, next_pos[2]:col_current] <<- TRUE\n",
    "    }\n",
    "  } else if (direction == 'right') {\n",
    "    next_pos <- as.matrix(hashtags_pos[col > col_current & row == row_current][order(col)][1])\n",
    "    next_pos[2] <- next_pos[2] - 1\n",
    "    visited[row_current, col_current:next_pos[2]] <<- TRUE\n",
    "  } else{\n",
    "    next_pos <- data.table(row = c(1), col = c(1)) %>% .[row > 1] %>% as.matrix\n",
    "  }\n",
    "\n",
    "\n",
    "  return(next_pos)  \n",
    "}"
   ]
  },
  {
   "cell_type": "code",
   "execution_count": 22,
   "metadata": {
    "vscode": {
     "languageId": "r"
    }
   },
   "outputs": [],
   "source": [
    "specify_next_direction <- function(current_direction){\n",
    "    switch(current_direction,\n",
    "           'up' = 'right',\n",
    "           'left' = 'up',\n",
    "           'down' = 'left',\n",
    "           'right' = 'down')\n",
    "}"
   ]
  },
  {
   "cell_type": "code",
   "execution_count": 23,
   "metadata": {
    "vscode": {
     "languageId": "r"
    }
   },
   "outputs": [],
   "source": [
    "calculate_distance_traversed <- function(start_pos, next_pos, direction){\n",
    "    row_start <- start_pos[1]\n",
    "    col_start <- start_pos[2]\n",
    "    \n",
    "    row_next <- next_pos[1]\n",
    "    col_next <- next_pos[2]\n",
    "    \n",
    "    if (direction %in% c('up', 'down')) {\n",
    "        distance_traversed <- abs(row_next - row_start)\n",
    "    } else {\n",
    "        distance_traversed <- abs(col_next - col_start)\n",
    "    }\n",
    "    \n",
    "    return(distance_traversed)\n",
    "}"
   ]
  },
  {
   "cell_type": "code",
   "execution_count": 24,
   "metadata": {
    "vscode": {
     "languageId": "r"
    }
   },
   "outputs": [
    {
     "name": "stdout",
     "output_type": "stream",
     "text": [
      "[1] 5\n",
      "[1] 4\n",
      "[1] 5\n",
      "[1] 6\n",
      "[1] 2\n",
      "[1] 4\n",
      "[1] 4\n",
      "[1] 5\n",
      "[1] 1\n",
      "[1] 6\n"
     ]
    },
    {
     "ename": "ERROR",
     "evalue": "Error in row_current:next_pos[1]: NA/NaN argument\n",
     "output_type": "error",
     "traceback": [
      "Error in row_current:next_pos[1]: NA/NaN argument\nTraceback:\n",
      "1. find_next_location(current_pos, hashtags_pos, current_direction)"
     ]
    }
   ],
   "source": [
    "current_direction <- 'up'\n",
    "in_map <- TRUE\n",
    "current_pos <- start_pos\n",
    "steps <- 0\n",
    "ct <- 0\n",
    "visited <<- rep(FALSE, length(input_mat)) %>% matrix(nrow = nrow(input_mat), ncol = ncol(input_mat))\n",
    "\n",
    "while(in_map & ct < 50){\n",
    "    next_pos <- find_next_location(current_pos, hashtags_pos, current_direction)\n",
    "    \n",
    "    if(is.na(next_pos[1])){\n",
    "        print(\"EXIT MAP\")\n",
    "        in_map <- FALSE\n",
    "        break\n",
    "    }\n",
    "    ct <- ct + 1\n",
    "    distance_traversed <- calculate_distance_traversed(current_pos, next_pos, current_direction)\n",
    "    print(distance_traversed)\n",
    "    current_direction <- specify_next_direction(current_direction)\n",
    "    current_pos <- next_pos\n",
    "    steps <- steps + distance_traversed\n",
    "}"
   ]
  },
  {
   "cell_type": "code",
   "execution_count": 169,
   "metadata": {
    "vscode": {
     "languageId": "r"
    }
   },
   "outputs": [
    {
     "data": {
      "text/html": [
       "10"
      ],
      "text/latex": [
       "10"
      ],
      "text/markdown": [
       "10"
      ],
      "text/plain": [
       "[1] 10"
      ]
     },
     "metadata": {},
     "output_type": "display_data"
    },
    {
     "data": {
      "text/html": [
       "42"
      ],
      "text/latex": [
       "42"
      ],
      "text/markdown": [
       "42"
      ],
      "text/plain": [
       "[1] 42"
      ]
     },
     "metadata": {},
     "output_type": "display_data"
    },
    {
     "data": {
      "text/html": [
       "6"
      ],
      "text/latex": [
       "6"
      ],
      "text/markdown": [
       "6"
      ],
      "text/plain": [
       "[1] 6"
      ]
     },
     "metadata": {},
     "output_type": "display_data"
    }
   ],
   "source": [
    "ct\n",
    "steps\n",
    "distance_traversed"
   ]
  },
  {
   "cell_type": "code",
   "execution_count": null,
   "metadata": {
    "vscode": {
     "languageId": "r"
    }
   },
   "outputs": [
    {
     "data": {
      "text/html": [
       "50"
      ],
      "text/latex": [
       "50"
      ],
      "text/markdown": [
       "50"
      ],
      "text/plain": [
       "[1] 50"
      ]
     },
     "metadata": {},
     "output_type": "display_data"
    }
   ],
   "source": [
    "ct"
   ]
  },
  {
   "cell_type": "code",
   "execution_count": null,
   "metadata": {
    "vscode": {
     "languageId": "r"
    }
   },
   "outputs": [
    {
     "data": {
      "text/html": [
       "<table class=\"dataframe\">\n",
       "<caption>A matrix: 1 × 2 of type int</caption>\n",
       "<thead>\n",
       "\t<tr><th scope=col>row</th><th scope=col>col</th></tr>\n",
       "</thead>\n",
       "<tbody>\n",
       "\t<tr><td>7</td><td>5</td></tr>\n",
       "</tbody>\n",
       "</table>\n"
      ],
      "text/latex": [
       "A matrix: 1 × 2 of type int\n",
       "\\begin{tabular}{ll}\n",
       " row & col\\\\\n",
       "\\hline\n",
       "\t 7 & 5\\\\\n",
       "\\end{tabular}\n"
      ],
      "text/markdown": [
       "\n",
       "A matrix: 1 × 2 of type int\n",
       "\n",
       "| row | col |\n",
       "|---|---|\n",
       "| 7 | 5 |\n",
       "\n"
      ],
      "text/plain": [
       "     row col\n",
       "[1,] 7   5  "
      ]
     },
     "metadata": {},
     "output_type": "display_data"
    }
   ],
   "source": [
    "start_pos"
   ]
  },
  {
   "cell_type": "code",
   "execution_count": null,
   "metadata": {
    "vscode": {
     "languageId": "r"
    }
   },
   "outputs": [],
   "source": []
  }
 ],
 "metadata": {
  "kernelspec": {
   "display_name": "R",
   "language": "R",
   "name": "ir"
  },
  "language_info": {
   "codemirror_mode": "r",
   "file_extension": ".r",
   "mimetype": "text/x-r-source",
   "name": "R",
   "pygments_lexer": "r",
   "version": "4.4.0"
  }
 },
 "nbformat": 4,
 "nbformat_minor": 2
}
