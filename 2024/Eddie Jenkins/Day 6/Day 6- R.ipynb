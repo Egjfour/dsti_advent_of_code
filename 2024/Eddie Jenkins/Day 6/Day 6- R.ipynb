{
 "cells": [
  {
   "cell_type": "code",
   "execution_count": 1,
   "metadata": {
    "vscode": {
     "languageId": "r"
    }
   },
   "outputs": [],
   "source": [
    "pacman::p_load(readr, purrr, rlist, stringr)"
   ]
  },
  {
   "cell_type": "code",
   "execution_count": 2,
   "metadata": {
    "vscode": {
     "languageId": "r"
    }
   },
   "outputs": [],
   "source": [
    "input_str <- \"....#.....\n",
    ".........#\n",
    "..........\n",
    "..#.......\n",
    ".......#..\n",
    "..........\n",
    ".#..^.....\n",
    "........#.\n",
    "#.........\n",
    "......#...\""
   ]
  },
  {
   "cell_type": "code",
   "execution_count": 12,
   "metadata": {
    "vscode": {
     "languageId": "r"
    }
   },
   "outputs": [],
   "source": [
    "ncols <- input_str %>% str_split(\"\\n\") %>% .[[1]] %>% nchar %>% unique\n",
    "\n",
    "input_mat <- matrix(input_str %>% str_replace_all(\"\\n\", \"\") %>% str_split(\"\") %>% .[[1]], ncol = ncols, byrow = TRUE)"
   ]
  },
  {
   "cell_type": "code",
   "execution_count": 35,
   "metadata": {
    "vscode": {
     "languageId": "r"
    }
   },
   "outputs": [],
   "source": [
    "start_pos <- which(input_mat == '^', arr.ind=TRUE)"
   ]
  },
  {
   "cell_type": "code",
   "execution_count": null,
   "metadata": {
    "vscode": {
     "languageId": "r"
    }
   },
   "outputs": [
    {
     "data": {
      "text/html": [
       "<table class=\"dataframe\">\n",
       "<caption>A matrix: 8 × 2 of type int</caption>\n",
       "<thead>\n",
       "\t<tr><th scope=col>row</th><th scope=col>col</th></tr>\n",
       "</thead>\n",
       "<tbody>\n",
       "\t<tr><td> 9</td><td> 1</td></tr>\n",
       "\t<tr><td> 7</td><td> 2</td></tr>\n",
       "\t<tr><td> 4</td><td> 3</td></tr>\n",
       "\t<tr><td> 1</td><td> 5</td></tr>\n",
       "\t<tr><td>10</td><td> 7</td></tr>\n",
       "\t<tr><td> 5</td><td> 8</td></tr>\n",
       "\t<tr><td> 8</td><td> 9</td></tr>\n",
       "\t<tr><td> 2</td><td>10</td></tr>\n",
       "</tbody>\n",
       "</table>\n"
      ],
      "text/latex": [
       "A matrix: 8 × 2 of type int\n",
       "\\begin{tabular}{ll}\n",
       " row & col\\\\\n",
       "\\hline\n",
       "\t  9 &  1\\\\\n",
       "\t  7 &  2\\\\\n",
       "\t  4 &  3\\\\\n",
       "\t  1 &  5\\\\\n",
       "\t 10 &  7\\\\\n",
       "\t  5 &  8\\\\\n",
       "\t  8 &  9\\\\\n",
       "\t  2 & 10\\\\\n",
       "\\end{tabular}\n"
      ],
      "text/markdown": [
       "\n",
       "A matrix: 8 × 2 of type int\n",
       "\n",
       "| row | col |\n",
       "|---|---|\n",
       "|  9 |  1 |\n",
       "|  7 |  2 |\n",
       "|  4 |  3 |\n",
       "|  1 |  5 |\n",
       "| 10 |  7 |\n",
       "|  5 |  8 |\n",
       "|  8 |  9 |\n",
       "|  2 | 10 |\n",
       "\n"
      ],
      "text/plain": [
       "     row col\n",
       "[1,]  9   1 \n",
       "[2,]  7   2 \n",
       "[3,]  4   3 \n",
       "[4,]  1   5 \n",
       "[5,] 10   7 \n",
       "[6,]  5   8 \n",
       "[7,]  8   9 \n",
       "[8,]  2  10 "
      ]
     },
     "metadata": {},
     "output_type": "display_data"
    }
   ],
   "source": [
    "which(input_mat == '#', arr.ind=TRUE) %>% as.data."
   ]
  },
  {
   "cell_type": "code",
   "execution_count": 38,
   "metadata": {
    "vscode": {
     "languageId": "r"
    }
   },
   "outputs": [
    {
     "data": {
      "text/html": [
       "<table class=\"dataframe\">\n",
       "<caption>A matrix: 1 × 2 of type int</caption>\n",
       "<thead>\n",
       "\t<tr><th scope=col>row</th><th scope=col>col</th></tr>\n",
       "</thead>\n",
       "<tbody>\n",
       "\t<tr><td>7</td><td>5</td></tr>\n",
       "</tbody>\n",
       "</table>\n"
      ],
      "text/latex": [
       "A matrix: 1 × 2 of type int\n",
       "\\begin{tabular}{ll}\n",
       " row & col\\\\\n",
       "\\hline\n",
       "\t 7 & 5\\\\\n",
       "\\end{tabular}\n"
      ],
      "text/markdown": [
       "\n",
       "A matrix: 1 × 2 of type int\n",
       "\n",
       "| row | col |\n",
       "|---|---|\n",
       "| 7 | 5 |\n",
       "\n"
      ],
      "text/plain": [
       "     row col\n",
       "[1,] 7   5  "
      ]
     },
     "metadata": {},
     "output_type": "display_data"
    }
   ],
   "source": [
    "start_pos"
   ]
  },
  {
   "cell_type": "code",
   "execution_count": null,
   "metadata": {
    "vscode": {
     "languageId": "r"
    }
   },
   "outputs": [],
   "source": []
  },
  {
   "cell_type": "code",
   "execution_count": null,
   "metadata": {
    "vscode": {
     "languageId": "r"
    }
   },
   "outputs": [],
   "source": []
  },
  {
   "cell_type": "code",
   "execution_count": null,
   "metadata": {
    "vscode": {
     "languageId": "r"
    }
   },
   "outputs": [],
   "source": []
  }
 ],
 "metadata": {
  "kernelspec": {
   "display_name": "R",
   "language": "R",
   "name": "ir"
  },
  "language_info": {
   "codemirror_mode": "r",
   "file_extension": ".r",
   "mimetype": "text/x-r-source",
   "name": "R",
   "pygments_lexer": "r",
   "version": "4.4.0"
  }
 },
 "nbformat": 4,
 "nbformat_minor": 2
}
