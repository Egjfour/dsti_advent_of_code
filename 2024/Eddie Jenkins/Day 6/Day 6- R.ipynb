{
 "cells": [
  {
   "cell_type": "code",
   "execution_count": 120,
   "metadata": {
    "vscode": {
     "languageId": "r"
    }
   },
   "outputs": [],
   "source": [
    "pacman::p_load(readr, purrr, rlist, stringr, data.table, dplyr)"
   ]
  },
  {
   "cell_type": "code",
   "execution_count": 121,
   "metadata": {
    "vscode": {
     "languageId": "r"
    }
   },
   "outputs": [],
   "source": [
    "input_str <- \"....#.....\n",
    ".........#\n",
    "..........\n",
    "..#.......\n",
    ".......#..\n",
    "..........\n",
    ".#..^.....\n",
    "........#.\n",
    "#.........\n",
    "......#...\""
   ]
  },
  {
   "cell_type": "code",
   "execution_count": 122,
   "metadata": {
    "vscode": {
     "languageId": "r"
    }
   },
   "outputs": [],
   "source": [
    "input_str <- read_file(\"puzzle_input.txt\")"
   ]
  },
  {
   "cell_type": "code",
   "execution_count": 123,
   "metadata": {
    "vscode": {
     "languageId": "r"
    }
   },
   "outputs": [],
   "source": [
    "ncols <- input_str %>% str_split(\"\\n\") %>% .[[1]] %>% nchar %>% unique\n",
    "\n",
    "input_mat <- matrix(input_str %>% str_replace_all(\"\\n\", \"\") %>% str_split(\"\") %>% .[[1]], ncol = ncols, byrow = TRUE)"
   ]
  },
  {
   "cell_type": "code",
   "execution_count": 124,
   "metadata": {
    "vscode": {
     "languageId": "r"
    }
   },
   "outputs": [],
   "source": [
    "start_pos <- which(input_mat == '^', arr.ind=TRUE)"
   ]
  },
  {
   "cell_type": "code",
   "execution_count": 125,
   "metadata": {
    "vscode": {
     "languageId": "r"
    }
   },
   "outputs": [],
   "source": [
    "hashtags_pos <- which(input_mat == '#', arr.ind=TRUE) %>% as.data.table"
   ]
  },
  {
   "cell_type": "markdown",
   "metadata": {
    "vscode": {
     "languageId": "r"
    }
   },
   "source": [
    "# Part 1"
   ]
  },
  {
   "cell_type": "code",
   "execution_count": 126,
   "metadata": {
    "vscode": {
     "languageId": "r"
    }
   },
   "outputs": [],
   "source": [
    "find_next_location <- function(pos, hashtags_pos, direction) {\n",
    "  row_current <- pos[1]\n",
    "  col_current <- pos[2]\n",
    "  visited[row_current, col_current] <<- TRUE\n",
    "  \n",
    "  if (direction == 'up') {\n",
    "    next_pos <- as.matrix(hashtags_pos[col == col_current & row < row_current][order(-row)][1])\n",
    "    next_pos[1] <- next_pos[1] + 1\n",
    "    if(is.na(next_pos[1])){\n",
    "      visited[1 : row_current, col_current] <<- TRUE\n",
    "    } else{\n",
    "      visited[next_pos[1] : row_current, col_current] <<- TRUE\n",
    "    }\n",
    "  } else if (direction == 'down') {\n",
    "    next_pos <- as.matrix(hashtags_pos[col == col_current & row > row_current][order(row)][1])\n",
    "    next_pos[1] <- next_pos[1] - 1\n",
    "    if(is.na(next_pos[1])){\n",
    "      visited[row_current:nrow(visited), col_current] <<- TRUE\n",
    "    } else{\n",
    "      visited[row_current:next_pos[1], col_current] <<- TRUE\n",
    "    }\n",
    "  } else if (direction == 'left') {\n",
    "    next_pos <- as.matrix(hashtags_pos[col < col_current & row == row_current][order(-col)][1])\n",
    "    next_pos[2] <- next_pos[2] + 1\n",
    "    if(is.na(next_pos[1])){\n",
    "      visited[row_current, 1:col_current] <<- TRUE\n",
    "    } else{\n",
    "      visited[row_current, next_pos[2]:col_current] <<- TRUE\n",
    "    }\n",
    "  } else if (direction == 'right') {\n",
    "    next_pos <- as.matrix(hashtags_pos[col > col_current & row == row_current][order(col)][1])\n",
    "    next_pos[2] <- next_pos[2] - 1\n",
    "    if(is.na(next_pos[1])){\n",
    "      visited[row_current, col_current:ncol(visited)] <<- TRUE\n",
    "    } else{\n",
    "      visited[row_current, col_current:next_pos[2]] <<- TRUE\n",
    "    }\n",
    "  } else{\n",
    "    next_pos <- data.table(row = c(1), col = c(1)) %>% .[row > 1] %>% as.matrix\n",
    "  }\n",
    "\n",
    "\n",
    "  return(next_pos)  \n",
    "}"
   ]
  },
  {
   "cell_type": "code",
   "execution_count": 127,
   "metadata": {
    "vscode": {
     "languageId": "r"
    }
   },
   "outputs": [],
   "source": [
    "specify_next_direction <- function(current_direction){\n",
    "    switch(current_direction,\n",
    "           'up' = 'right',\n",
    "           'left' = 'up',\n",
    "           'down' = 'left',\n",
    "           'right' = 'down')\n",
    "}"
   ]
  },
  {
   "cell_type": "code",
   "execution_count": 128,
   "metadata": {
    "vscode": {
     "languageId": "r"
    }
   },
   "outputs": [],
   "source": [
    "calculate_distance_traversed <- function(start_pos, next_pos, direction){\n",
    "    row_start <- start_pos[1]\n",
    "    col_start <- start_pos[2]\n",
    "    \n",
    "    row_next <- next_pos[1]\n",
    "    col_next <- next_pos[2]\n",
    "    \n",
    "    if (direction %in% c('up', 'down')) {\n",
    "        distance_traversed <- abs(row_next - row_start)\n",
    "    } else {\n",
    "        distance_traversed <- abs(col_next - col_start)\n",
    "    }\n",
    "    \n",
    "    return(distance_traversed)\n",
    "}"
   ]
  },
  {
   "cell_type": "code",
   "execution_count": 129,
   "metadata": {
    "vscode": {
     "languageId": "r"
    }
   },
   "outputs": [
    {
     "name": "stdout",
     "output_type": "stream",
     "text": [
      "[1] \"EXIT MAP\"\n",
      "[1] \"Part 1: 4647\"\n"
     ]
    }
   ],
   "source": [
    "current_direction <- 'up'\n",
    "in_map <- TRUE\n",
    "current_pos <- start_pos\n",
    "steps <- 0\n",
    "visited <<- rep(FALSE, length(input_mat)) %>% matrix(nrow = nrow(input_mat), ncol = ncol(input_mat))\n",
    "\n",
    "while(in_map){\n",
    "    next_pos <- find_next_location(current_pos, hashtags_pos, current_direction)\n",
    "    \n",
    "    if(is.na(next_pos[1])){\n",
    "        print(\"EXIT MAP\")\n",
    "        in_map <- FALSE\n",
    "        break\n",
    "    }\n",
    "    distance_traversed <- calculate_distance_traversed(current_pos, next_pos, current_direction)\n",
    "    current_direction <- specify_next_direction(current_direction)\n",
    "    current_pos <- next_pos\n",
    "    steps <- steps + distance_traversed\n",
    "}\n",
    "\n",
    "print(paste(\"Part 1:\", sum(visited)))"
   ]
  },
  {
   "cell_type": "markdown",
   "metadata": {
    "vscode": {
     "languageId": "r"
    }
   },
   "source": [
    "# Part 2"
   ]
  },
  {
   "cell_type": "code",
   "execution_count": 130,
   "metadata": {
    "vscode": {
     "languageId": "r"
    }
   },
   "outputs": [
    {
     "data": {
      "text/html": [
       "786"
      ],
      "text/latex": [
       "786"
      ],
      "text/markdown": [
       "786"
      ],
      "text/plain": [
       "[1] 786"
      ]
     },
     "metadata": {},
     "output_type": "display_data"
    }
   ],
   "source": [
    "hashtags_pos <- which(input_mat == '#', arr.ind=TRUE) %>% as.data.table\n",
    "num_adjenct_dt <- hashtags_pos %>% pmap(function(...){\n",
    "    current_row <- list(...) %>% .[[1]]\n",
    "    current_col <- list(...) %>% .[[2]]\n",
    "\n",
    "    adjenct_row_ct <- hashtags_pos[abs(row - current_row) == 1] %>% nrow()\n",
    "    adjenct_col_ct <- hashtags_pos[abs(col - current_col) == 1] %>% nrow()\n",
    "    data.table(row = current_row, col = current_col, num_adjacent = adjenct_col_ct + adjenct_row_ct)\n",
    "}) %>% rbindlist()\n",
    "\n",
    "first_obstacle_loc <- find_next_location(start_pos, hashtags_pos, 'up')\n",
    "\n",
    "num_adjenct_dt[row == first_obstacle_loc[1] - 1 & col == first_obstacle_loc[2], num_adjacent := num_adjacent + 1]\n",
    "\n",
    "num_adjenct_dt[, ':='(IsOdd = num_adjacent %% 2 == 1)] %>% .[, sum(IsOdd)] * 2"
   ]
  },
  {
   "cell_type": "code",
   "execution_count": null,
   "metadata": {
    "vscode": {
     "languageId": "r"
    }
   },
   "outputs": [],
   "source": []
  },
  {
   "cell_type": "code",
   "execution_count": null,
   "metadata": {
    "vscode": {
     "languageId": "r"
    }
   },
   "outputs": [],
   "source": []
  },
  {
   "cell_type": "code",
   "execution_count": null,
   "metadata": {
    "vscode": {
     "languageId": "r"
    }
   },
   "outputs": [],
   "source": []
  }
 ],
 "metadata": {
  "kernelspec": {
   "display_name": "R",
   "language": "R",
   "name": "ir"
  },
  "language_info": {
   "codemirror_mode": "r",
   "file_extension": ".r",
   "mimetype": "text/x-r-source",
   "name": "R",
   "pygments_lexer": "r",
   "version": "4.4.0"
  }
 },
 "nbformat": 4,
 "nbformat_minor": 2
}
