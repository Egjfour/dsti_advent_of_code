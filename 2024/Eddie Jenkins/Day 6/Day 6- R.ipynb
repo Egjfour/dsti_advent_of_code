{
 "cells": [
  {
   "cell_type": "code",
   "execution_count": 1,
   "metadata": {
    "vscode": {
     "languageId": "r"
    }
   },
   "outputs": [],
   "source": [
    "pacman::p_load(readr, purrr, rlist, stringr, data.table, dplyr)"
   ]
  },
  {
   "cell_type": "code",
   "execution_count": 2,
   "metadata": {
    "vscode": {
     "languageId": "r"
    }
   },
   "outputs": [],
   "source": [
    "input_str <- \"....#.....\n",
    ".........#\n",
    "..........\n",
    "..#.......\n",
    ".......#..\n",
    "..........\n",
    ".#..^.....\n",
    "........#.\n",
    "#.........\n",
    "......#...\""
   ]
  },
  {
   "cell_type": "code",
   "execution_count": 3,
   "metadata": {
    "vscode": {
     "languageId": "r"
    }
   },
   "outputs": [],
   "source": [
    "input_str <- read_file(\"puzzle_input.txt\")"
   ]
  },
  {
   "cell_type": "code",
   "execution_count": 4,
   "metadata": {
    "vscode": {
     "languageId": "r"
    }
   },
   "outputs": [],
   "source": [
    "# nolint start\n",
    "ncols <- input_str %>% str_split(\"\\n\") %>% .[[1]] %>% nchar %>% unique\n",
    "\n",
    "input_mat <- matrix(input_str %>% str_replace_all(\"\\n\", \"\") %>% str_split(\"\") %>% .[[1]], ncol = ncols, byrow = TRUE)"
   ]
  },
  {
   "cell_type": "code",
   "execution_count": 5,
   "metadata": {
    "vscode": {
     "languageId": "r"
    }
   },
   "outputs": [],
   "source": [
    "start_pos <- which(input_mat == '^', arr.ind=TRUE)"
   ]
  },
  {
   "cell_type": "code",
   "execution_count": 6,
   "metadata": {
    "vscode": {
     "languageId": "r"
    }
   },
   "outputs": [],
   "source": [
    "hashtags_pos <- which(input_mat == '#', arr.ind=TRUE) %>% as.data.table"
   ]
  },
  {
   "cell_type": "markdown",
   "metadata": {
    "vscode": {
     "languageId": "r"
    }
   },
   "source": [
    "# Part 1"
   ]
  },
  {
   "cell_type": "code",
   "execution_count": 7,
   "metadata": {
    "vscode": {
     "languageId": "r"
    }
   },
   "outputs": [],
   "source": [
    "# nolint start\n",
    "find_next_location <- function(pos, hashtags_pos, direction, adjustment = 1) {\n",
    "  row_current <- pos[1]\n",
    "  col_current <- pos[2]\n",
    "  visited[row_current, col_current] <<- TRUE\n",
    "  \n",
    "  if (direction == 'up') {\n",
    "    next_pos <- as.matrix(hashtags_pos[col == col_current & row < row_current][order(-row)][1])\n",
    "    next_pos[1] <- next_pos[1] + adjustment\n",
    "    if(is.na(next_pos[1])){\n",
    "      visited[1 : row_current, col_current] <<- TRUE\n",
    "    } else{\n",
    "      visited[next_pos[1] : row_current, col_current] <<- TRUE\n",
    "    }\n",
    "  } else if (direction == 'down') {\n",
    "    next_pos <- as.matrix(hashtags_pos[col == col_current & row > row_current][order(row)][1])\n",
    "    next_pos[1] <- next_pos[1] - adjustment\n",
    "    if(is.na(next_pos[1])){\n",
    "      visited[row_current:nrow(visited), col_current] <<- TRUE\n",
    "    } else{\n",
    "      visited[row_current:next_pos[1], col_current] <<- TRUE\n",
    "    }\n",
    "  } else if (direction == 'left') {\n",
    "    next_pos <- as.matrix(hashtags_pos[col < col_current & row == row_current][order(-col)][1])\n",
    "    next_pos[2] <- next_pos[2] + adjustment\n",
    "    if(is.na(next_pos[1])){\n",
    "      visited[row_current, 1:col_current] <<- TRUE\n",
    "    } else{\n",
    "      visited[row_current, next_pos[2]:col_current] <<- TRUE\n",
    "    }\n",
    "  } else if (direction == 'right') {\n",
    "    next_pos <- as.matrix(hashtags_pos[col > col_current & row == row_current][order(col)][1])\n",
    "    next_pos[2] <- next_pos[2] - adjustment\n",
    "    if(is.na(next_pos[1])){\n",
    "      visited[row_current, col_current:ncol(visited)] <<- TRUE\n",
    "    } else{\n",
    "      visited[row_current, col_current:next_pos[2]] <<- TRUE\n",
    "    }\n",
    "  } else{\n",
    "    next_pos <- data.table(row = c(1), col = c(1)) %>% .[row > 1] %>% as.matrix\n",
    "  }\n",
    "\n",
    "  return(next_pos)  \n",
    "}"
   ]
  },
  {
   "cell_type": "code",
   "execution_count": 8,
   "metadata": {
    "vscode": {
     "languageId": "r"
    }
   },
   "outputs": [],
   "source": [
    "specify_next_direction <- function(current_direction){\n",
    "    switch(current_direction,\n",
    "           'up' = 'right',\n",
    "           'left' = 'up',\n",
    "           'down' = 'left',\n",
    "           'right' = 'down')\n",
    "}"
   ]
  },
  {
   "cell_type": "code",
   "execution_count": 9,
   "metadata": {
    "vscode": {
     "languageId": "r"
    }
   },
   "outputs": [],
   "source": [
    "calculate_distance_traversed <- function(start_pos, next_pos, direction){\n",
    "    row_start <- start_pos[1]\n",
    "    col_start <- start_pos[2]\n",
    "    \n",
    "    row_next <- next_pos[1]\n",
    "    col_next <- next_pos[2]\n",
    "    \n",
    "    if (direction %in% c('up', 'down')) {\n",
    "        distance_traversed <- abs(row_next - row_start)\n",
    "    } else {\n",
    "        distance_traversed <- abs(col_next - col_start)\n",
    "    }\n",
    "    \n",
    "    return(distance_traversed)\n",
    "}"
   ]
  },
  {
   "cell_type": "code",
   "execution_count": 10,
   "metadata": {
    "vscode": {
     "languageId": "r"
    }
   },
   "outputs": [
    {
     "name": "stdout",
     "output_type": "stream",
     "text": [
      "[1] \"EXIT MAP\"\n",
      "[1] \"Part 1: 4647\"\n",
      "[1] 5025\n"
     ]
    }
   ],
   "source": [
    "# nolint start\n",
    "current_direction <- 'up'\n",
    "in_map <- TRUE\n",
    "current_pos <- start_pos\n",
    "steps <- 0\n",
    "visited <<- rep(FALSE, length(input_mat)) %>% matrix(nrow = nrow(input_mat), ncol = ncol(input_mat))\n",
    "\n",
    "while(in_map){\n",
    "    next_pos <- find_next_location(current_pos, hashtags_pos, current_direction)\n",
    "    \n",
    "    if(is.na(next_pos[1])){\n",
    "        print(\"EXIT MAP\")\n",
    "        in_map <- FALSE\n",
    "        break\n",
    "    }\n",
    "    distance_traversed <- calculate_distance_traversed(current_pos, next_pos, current_direction)\n",
    "    current_direction <- specify_next_direction(current_direction)\n",
    "    current_pos <- next_pos\n",
    "    steps <- steps + distance_traversed\n",
    "}\n",
    "\n",
    "print(paste(\"Part 1:\", sum(visited)))\n",
    "print(steps)"
   ]
  },
  {
   "cell_type": "markdown",
   "metadata": {
    "vscode": {
     "languageId": "r"
    }
   },
   "source": [
    "# Part 2"
   ]
  },
  {
   "cell_type": "code",
   "execution_count": 11,
   "metadata": {
    "vscode": {
     "languageId": "r"
    }
   },
   "outputs": [],
   "source": [
    "hashtags_pos <- which(input_mat == '#', arr.ind=TRUE) %>% as.data.table"
   ]
  },
  {
   "cell_type": "code",
   "execution_count": 12,
   "metadata": {
    "vscode": {
     "languageId": "r"
    }
   },
   "outputs": [],
   "source": [
    "# nolint start\n",
    "traverse_map <- function(start_pos, hashtags_pos){\n",
    "    current_direction <- 'up'\n",
    "    in_map <- TRUE\n",
    "    current_pos <- start_pos\n",
    "    locations_visited <<- copy(hashtags_pos)\n",
    "    locations_visited[, ':='(visited_up = FALSE, visited_down = FALSE, visited_left = FALSE, visited_right = FALSE)]\n",
    "    total_distance <- 0\n",
    "    \n",
    "    while(in_map & total_distance < 10000){\n",
    "        next_pos <- find_next_location2(current_pos, hashtags_pos, current_direction, 1)\n",
    "        \n",
    "        if(current_direction == 'up'){\n",
    "            row_adj <- -1\n",
    "            col_adj <- 0\n",
    "        }\n",
    "        if(current_direction == 'down'){\n",
    "            row_adj <- 1\n",
    "            col_adj <- 0\n",
    "        }\n",
    "        if(current_direction == 'left'){\n",
    "            row_adj <- 0\n",
    "            col_adj <- -1\n",
    "        }\n",
    "        if(current_direction == 'right'){\n",
    "            row_adj <- 0\n",
    "            col_adj <- 1\n",
    "        }\n",
    "        \n",
    "        if(is.na(next_pos[1])){\n",
    "            in_map <- FALSE\n",
    "            break\n",
    "        }\n",
    "        if(locations_visited[row == next_pos[1] + row_adj & col == next_pos[2] + col_adj, get(paste0(\"visited_\", current_direction))]){\n",
    "            break\n",
    "        }\n",
    "        \n",
    "        locations_visited[row == next_pos[1] + row_adj & col == next_pos[2] + col_adj, paste0(\"visited_\", current_direction)] <- TRUE\n",
    "        distance_traversed <- calculate_distance_traversed(current_pos, next_pos, current_direction)\n",
    "        total_distance <- total_distance + distance_traversed\n",
    "        current_direction <- specify_next_direction(current_direction)\n",
    "        \n",
    "        current_pos <- next_pos\n",
    "    }\n",
    "    \n",
    "    return(in_map)\n",
    "}\n"
   ]
  },
  {
   "cell_type": "code",
   "execution_count": 13,
   "metadata": {
    "vscode": {
     "languageId": "r"
    }
   },
   "outputs": [],
   "source": [
    "path_positions <- which(visited, arr.ind = T) %>% as.data.table"
   ]
  },
  {
   "cell_type": "code",
   "execution_count": 14,
   "metadata": {
    "vscode": {
     "languageId": "r"
    }
   },
   "outputs": [],
   "source": [
    "# nolint start\n",
    "# We don't need to update the visted matrix anymore since that is calculated in part 1\n",
    "find_next_location2 <- function(pos, hashtags_pos, direction, adjustment = 1) {\n",
    "  row_current <- pos[1]\n",
    "  col_current <- pos[2]\n",
    "  \n",
    "  if (direction == 'up') {\n",
    "    next_pos <- as.matrix(hashtags_pos[col == col_current & row < row_current][order(-row)][1])\n",
    "    next_pos[1] <- next_pos[1] + adjustment\n",
    "\n",
    "  } else if (direction == 'down') {\n",
    "    next_pos <- as.matrix(hashtags_pos[col == col_current & row > row_current][order(row)][1])\n",
    "    next_pos[1] <- next_pos[1] - adjustment\n",
    "\n",
    "  } else if (direction == 'left') {\n",
    "    next_pos <- as.matrix(hashtags_pos[col < col_current & row == row_current][order(-col)][1])\n",
    "    next_pos[2] <- next_pos[2] + adjustment\n",
    "\n",
    "  } else if (direction == 'right') {\n",
    "    next_pos <- as.matrix(hashtags_pos[col > col_current & row == row_current][order(col)][1])\n",
    "    next_pos[2] <- next_pos[2] - adjustment\n",
    "  } else{\n",
    "    next_pos <- data.table(row = c(1), col = c(1)) %>% .[row > 1] %>% as.matrix\n",
    "  }\n",
    "\n",
    "  return(next_pos)  \n",
    "}"
   ]
  },
  {
   "cell_type": "code",
   "execution_count": 15,
   "metadata": {
    "vscode": {
     "languageId": "r"
    }
   },
   "outputs": [
    {
     "name": "stderr",
     "output_type": "stream",
     "text": [
      "100\n",
      "\n",
      "200\n",
      "\n",
      "300\n",
      "\n",
      "400\n",
      "\n",
      "500\n",
      "\n",
      "600\n",
      "\n",
      "700\n",
      "\n",
      "800\n",
      "\n",
      "900\n",
      "\n",
      "1000\n",
      "\n",
      "1100\n",
      "\n",
      "1200\n",
      "\n",
      "1300\n",
      "\n",
      "1400\n",
      "\n",
      "1500\n",
      "\n",
      "1600\n",
      "\n",
      "1700\n",
      "\n",
      "1800\n",
      "\n",
      "1900\n",
      "\n",
      "2000\n",
      "\n",
      "2100\n",
      "\n",
      "2200\n",
      "\n",
      "2300\n",
      "\n",
      "2400\n",
      "\n",
      "2500\n",
      "\n",
      "2600\n",
      "\n",
      "2700\n",
      "\n",
      "2800\n",
      "\n",
      "2900\n",
      "\n",
      "3000\n",
      "\n",
      "3100\n",
      "\n",
      "3200\n",
      "\n",
      "3300\n",
      "\n",
      "3400\n",
      "\n",
      "3500\n",
      "\n",
      "3600\n",
      "\n",
      "3700\n",
      "\n",
      "3800\n",
      "\n",
      "3900\n",
      "\n",
      "4000\n",
      "\n",
      "4100\n",
      "\n",
      "4200\n",
      "\n",
      "4300\n",
      "\n",
      "4400\n",
      "\n",
      "4500\n",
      "\n",
      "4600\n",
      "\n"
     ]
    }
   ],
   "source": [
    "# nolint start\n",
    "# results <- seq(nrow(input_mat)) %>% map_dfr(function(row){\n",
    "#     seq(ncol(input_mat)) %>% map_dfr(function(col){\n",
    "#         test_hastag_pos <- rbind(copy(hashtags_pos), data.table(row = row, col = col)) %>% unique\n",
    "#         is_loop <- traverse_map(start_pos, test_hastag_pos)\n",
    "#         result <- data.table(row = row, col = col, is_loop = is_loop)\n",
    "#     })\n",
    "# })\n",
    "\n",
    "itr <<- 0\n",
    "results <- path_positions[!(row == start_pos[1] - 1 & col == start_pos[2])] %>% pmap(function(...){\n",
    "    dt <- data.table(...)\n",
    "    test_hastag_pos <- rbind(copy(hashtags_pos), dt) %>% unique\n",
    "    is_loop <- traverse_map(start_pos, test_hastag_pos)\n",
    "    itr <<- itr + 1\n",
    "    if(itr %% 100 == 0){\n",
    "        message(itr)\n",
    "    }\n",
    "    is_loop\n",
    "})"
   ]
  },
  {
   "cell_type": "code",
   "execution_count": 16,
   "metadata": {
    "vscode": {
     "languageId": "r"
    }
   },
   "outputs": [
    {
     "data": {
      "text/html": [
       "1723"
      ],
      "text/latex": [
       "1723"
      ],
      "text/markdown": [
       "1723"
      ],
      "text/plain": [
       "[1] 1723"
      ]
     },
     "metadata": {},
     "output_type": "display_data"
    }
   ],
   "source": [
    "unlist(results) %>% sum"
   ]
  },
  {
   "cell_type": "code",
   "execution_count": null,
   "metadata": {
    "vscode": {
     "languageId": "r"
    }
   },
   "outputs": [],
   "source": []
  }
 ],
 "metadata": {
  "kernelspec": {
   "display_name": "R",
   "language": "R",
   "name": "ir"
  },
  "language_info": {
   "codemirror_mode": "r",
   "file_extension": ".r",
   "mimetype": "text/x-r-source",
   "name": "R",
   "pygments_lexer": "r",
   "version": "4.4.0"
  }
 },
 "nbformat": 4,
 "nbformat_minor": 2
}
