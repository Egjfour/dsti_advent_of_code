{
 "cells": [
  {
   "cell_type": "code",
   "execution_count": 5,
   "metadata": {
    "vscode": {
     "languageId": "r"
    }
   },
   "outputs": [],
   "source": [
    "pacman::p_load(readr, stringr, rlist)"
   ]
  },
  {
   "cell_type": "code",
   "execution_count": 6,
   "metadata": {
    "vscode": {
     "languageId": "r"
    }
   },
   "outputs": [],
   "source": [
    "input_str <- \"MMMSXXMASM\n",
    "MSAMXMSMSA\n",
    "AMXSXMAAMM\n",
    "MSAMASMSMX\n",
    "XMASAMXAMM\n",
    "XXAMMXXAMA\n",
    "SMSMSASXSS\n",
    "SAXAMASAAA\n",
    "MAMMMXMMMM\n",
    "MXMXAXMASX\""
   ]
  },
  {
   "cell_type": "code",
   "execution_count": 8,
   "metadata": {
    "vscode": {
     "languageId": "r"
    }
   },
   "outputs": [],
   "source": [
    "# input_str <- read_file(\"puzzle_input.txt\")"
   ]
  },
  {
   "cell_type": "markdown",
   "metadata": {
    "vscode": {
     "languageId": "r"
    }
   },
   "source": [
    "# Part 1"
   ]
  },
  {
   "cell_type": "code",
   "execution_count": 9,
   "metadata": {
    "vscode": {
     "languageId": "r"
    }
   },
   "outputs": [],
   "source": [
    "num_cols <- nchar(input_str %>% str_split(\"\\n\") %>% .[[1]])\n",
    "\n",
    "input_mat <- matrix(input_str %>% str_split(\"\") %>% .[[1]] %>% list.filter(. != '\\n'), ncol = num_cols, byrow = TRUE)\n",
    "\n",
    "x_bool <- input_mat == \"X\""
   ]
  },
  {
   "cell_type": "code",
   "execution_count": 10,
   "metadata": {
    "vscode": {
     "languageId": "r"
    }
   },
   "outputs": [],
   "source": [
    "check_horizontal <- function(row, col, word_to_find, current_word, letter_matrix, direction){\n",
    "    idx_chg <- ifelse(direction == \"right\", 1, -1)\n",
    "    obj_word_split <- word_to_find %>% str_split(\"\") %>% .[[1]]\n",
    "    next_letter <- obj_word_split[nchar(current_word) + 1]\n",
    "\n",
    "    if (current_word == word_to_find){\n",
    "        return(TRUE)\n",
    "    }\n",
    "\n",
    "    if (col + idx_chg > ncol(letter_matrix) | col + idx_chg < 1){\n",
    "        return(FALSE)\n",
    "    }\n",
    "\n",
    "    if (letter_matrix[row, col + idx_chg] != next_letter){\n",
    "        return(FALSE)\n",
    "    }\n",
    "\n",
    "    return(check_horizontal(row, col + idx_chg, word_to_find, paste0(current_word, letter_matrix[row, col + idx_chg]), letter_matrix, direction))\n",
    "}"
   ]
  },
  {
   "cell_type": "code",
   "execution_count": 11,
   "metadata": {
    "vscode": {
     "languageId": "r"
    }
   },
   "outputs": [],
   "source": [
    "check_vertical <- function(row, col, word_to_find, current_word, letter_matrix, direction){\n",
    "    idx_chg <- ifelse(direction == \"down\", 1, -1)\n",
    "    obj_word_split <- word_to_find %>% str_split(\"\") %>% .[[1]]\n",
    "    next_letter <- obj_word_split[nchar(current_word) + 1]\n",
    "\n",
    "    if (current_word == word_to_find){\n",
    "        return(TRUE)\n",
    "    }\n",
    "\n",
    "    if (row + idx_chg > nrow(letter_matrix) | row + idx_chg < 1){\n",
    "        return(FALSE)\n",
    "    }\n",
    "\n",
    "    if (letter_matrix[row + idx_chg, col] != next_letter){\n",
    "        return(FALSE)\n",
    "    }\n",
    "\n",
    "    return(check_vertical(row + idx_chg, col, word_to_find, paste0(current_word, letter_matrix[row + idx_chg, col]), letter_matrix, direction))\n",
    "}"
   ]
  },
  {
   "cell_type": "code",
   "execution_count": 12,
   "metadata": {
    "vscode": {
     "languageId": "r"
    }
   },
   "outputs": [],
   "source": [
    "check_diagonal <- function(row, col, word_to_find, current_word, letter_matrix, horizonatal_direction, vertical_direction){\n",
    "    horizonatal_idx_chg <- ifelse(horizonatal_direction == \"right\", 1, -1)\n",
    "    vertical_idx_chg <- ifelse(vertical_direction == \"down\", 1, -1)\n",
    "    obj_word_split <- word_to_find %>% str_split(\"\") %>% .[[1]]\n",
    "    next_letter <- obj_word_split[nchar(current_word) + 1]\n",
    "\n",
    "    if (current_word == word_to_find){\n",
    "        return(TRUE)\n",
    "    }\n",
    "\n",
    "    if (row + vertical_idx_chg > nrow(letter_matrix) | col + horizonatal_idx_chg > ncol(letter_matrix) | row + vertical_idx_chg < 1 | col + horizonatal_idx_chg < 1){\n",
    "        return(FALSE)\n",
    "    }\n",
    "\n",
    "    if (letter_matrix[row + vertical_idx_chg, col + horizonatal_idx_chg] != next_letter){\n",
    "        return(FALSE)\n",
    "    }\n",
    "\n",
    "    return(check_diagonal(row + vertical_idx_chg, col + horizonatal_idx_chg, word_to_find,\n",
    "           paste0(current_word, letter_matrix[row + vertical_idx_chg, col + horizonatal_idx_chg]), letter_matrix, horizonatal_direction, vertical_direction))\n",
    "}"
   ]
  },
  {
   "cell_type": "code",
   "execution_count": 13,
   "metadata": {
    "vscode": {
     "languageId": "r"
    }
   },
   "outputs": [
    {
     "name": "stdout",
     "output_type": "stream",
     "text": [
      "[1] 18\n"
     ]
    }
   ],
   "source": [
    "xmas_count <- 0\n",
    "search_word <- \"XMAS\"\n",
    "for (row_curr in seq(1, dim(input_mat)[1])){\n",
    "    for (col_curr in seq(1, dim(input_mat)[2])){\n",
    "        if (x_bool[row_curr, col_curr]){\n",
    "            if(check_horizontal(row_curr, col_curr, search_word, input_mat[row_curr, col_curr], input_mat, \"right\")){\n",
    "                xmas_count <- xmas_count + 1\n",
    "            }\n",
    "\n",
    "            if(check_horizontal(row_curr, col_curr, search_word, input_mat[row_curr, col_curr], input_mat, \"left\")){\n",
    "                xmas_count <- xmas_count + 1\n",
    "            }\n",
    "\n",
    "            if(check_vertical(row_curr, col_curr, search_word, input_mat[row_curr, col_curr], input_mat, \"down\")){\n",
    "                xmas_count <- xmas_count + 1\n",
    "            }\n",
    "\n",
    "            if(check_vertical(row_curr, col_curr, search_word, input_mat[row_curr, col_curr], input_mat, \"up\")){\n",
    "                xmas_count <- xmas_count + 1\n",
    "            }\n",
    "\n",
    "            if(check_diagonal(row_curr, col_curr, search_word, input_mat[row_curr, col_curr], input_mat, \"right\", \"down\")){\n",
    "                xmas_count <- xmas_count + 1\n",
    "            }\n",
    "\n",
    "            if(check_diagonal(row_curr, col_curr, search_word, input_mat[row_curr, col_curr], input_mat, \"left\", \"up\")){\n",
    "                xmas_count <- xmas_count + 1\n",
    "            }\n",
    "\n",
    "            if(check_diagonal(row_curr, col_curr, search_word, input_mat[row_curr, col_curr], input_mat, \"right\", \"up\")){\n",
    "                xmas_count <- xmas_count + 1\n",
    "            }\n",
    "\n",
    "            if(check_diagonal(row_curr, col_curr, search_word, input_mat[row_curr, col_curr], input_mat, \"left\", \"down\")){\n",
    "                xmas_count <- xmas_count + 1\n",
    "            }\n",
    "        }\n",
    "    }\n",
    "}\n",
    "\n",
    "print(xmas_count)"
   ]
  },
  {
   "cell_type": "markdown",
   "metadata": {
    "vscode": {
     "languageId": "r"
    }
   },
   "source": [
    "# Part 2"
   ]
  },
  {
   "cell_type": "code",
   "execution_count": 14,
   "metadata": {
    "vscode": {
     "languageId": "r"
    }
   },
   "outputs": [],
   "source": [
    "a_bool <- input_mat == \"A\""
   ]
  },
  {
   "cell_type": "code",
   "execution_count": 15,
   "metadata": {
    "vscode": {
     "languageId": "r"
    }
   },
   "outputs": [],
   "source": [
    "x_mas_count <- 0\n",
    "for (row_curr in seq(1, dim(input_mat)[1])){\n",
    "    for (col_curr in seq(1, dim(input_mat)[2])){\n",
    "        if (a_bool[row_curr, col_curr]){\n",
    "            upwards_1 <- (check_diagonal(row_curr, col_curr, \"AS\", input_mat[row_curr, col_curr], input_mat, \"right\", \"up\") &\n",
    "                        check_diagonal(row_curr, col_curr, \"AM\", input_mat[row_curr, col_curr], input_mat, \"left\", \"down\"))\n",
    "\n",
    "            upwards_2 <- (check_diagonal(row_curr, col_curr, \"AM\", input_mat[row_curr, col_curr], input_mat, \"right\", \"up\") &\n",
    "                        check_diagonal(row_curr, col_curr, \"AS\", input_mat[row_curr, col_curr], input_mat, \"left\", \"down\"))\n",
    "\n",
    "            downwards_1 <- (check_diagonal(row_curr, col_curr, \"AS\", input_mat[row_curr, col_curr], input_mat, \"right\", \"down\") &\n",
    "                            check_diagonal(row_curr, col_curr, \"AM\", input_mat[row_curr, col_curr], input_mat, \"left\", \"up\"))\n",
    "\n",
    "            downwards_2 <- (check_diagonal(row_curr, col_curr, \"AM\", input_mat[row_curr, col_curr], input_mat, \"right\", \"down\") &\n",
    "                            check_diagonal(row_curr, col_curr, \"AS\", input_mat[row_curr, col_curr], input_mat, \"left\", \"up\"))\n",
    "\n",
    "            if ((upwards_1 | upwards_2) & (downwards_1 | downwards_2)){\n",
    "                x_mas_count <- x_mas_count + 1\n",
    "            }\n",
    "        }\n",
    "    }\n",
    "}"
   ]
  },
  {
   "cell_type": "code",
   "execution_count": 16,
   "metadata": {
    "vscode": {
     "languageId": "r"
    }
   },
   "outputs": [
    {
     "data": {
      "text/html": [
       "9"
      ],
      "text/latex": [
       "9"
      ],
      "text/markdown": [
       "9"
      ],
      "text/plain": [
       "[1] 9"
      ]
     },
     "metadata": {},
     "output_type": "display_data"
    }
   ],
   "source": [
    "x_mas_count"
   ]
  },
  {
   "cell_type": "code",
   "execution_count": null,
   "metadata": {
    "vscode": {
     "languageId": "r"
    }
   },
   "outputs": [],
   "source": []
  }
 ],
 "metadata": {
  "kernelspec": {
   "display_name": "R",
   "language": "R",
   "name": "ir"
  },
  "language_info": {
   "codemirror_mode": "r",
   "file_extension": ".r",
   "mimetype": "text/x-r-source",
   "name": "R",
   "pygments_lexer": "r",
   "version": "4.4.0"
  }
 },
 "nbformat": 4,
 "nbformat_minor": 2
}
