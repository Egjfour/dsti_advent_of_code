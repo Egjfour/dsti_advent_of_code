{
 "cells": [
  {
   "cell_type": "code",
   "execution_count": 104,
   "metadata": {},
   "outputs": [],
   "source": [
    "import itertools as it\n",
    "from tqdm import tqdm"
   ]
  },
  {
   "cell_type": "code",
   "execution_count": 105,
   "metadata": {},
   "outputs": [],
   "source": [
    "input_str = \"\"\"190: 10 19\n",
    "3267: 81 40 27\n",
    "83: 17 5\n",
    "156: 15 6\n",
    "7290: 6 8 6 15\n",
    "161011: 16 10 13\n",
    "192: 17 8 14\n",
    "21037: 9 7 18 13\n",
    "292: 11 6 16 20\n",
    "\"\"\""
   ]
  },
  {
   "cell_type": "code",
   "execution_count": 106,
   "metadata": {},
   "outputs": [],
   "source": [
    "# My input\n",
    "with open('puzzle_input.txt', 'r') as f:\n",
    "    input_str = f.read()"
   ]
  },
  {
   "cell_type": "code",
   "execution_count": 107,
   "metadata": {},
   "outputs": [],
   "source": [
    "lines = input_str.split('\\n')\n",
    "lines = [line.split(': ') for line in lines]\n",
    "lines = [(int(ans), [int(val) for val in vals.split(\" \")]) for ans, vals in lines[:-1]]"
   ]
  },
  {
   "cell_type": "markdown",
   "metadata": {},
   "source": [
    "# Part 1"
   ]
  },
  {
   "cell_type": "code",
   "execution_count": 108,
   "metadata": {},
   "outputs": [],
   "source": [
    "def check_is_valid(answer, operands, operator_options):\n",
    "    is_valid = False\n",
    "    for operator_option in operator_options:\n",
    "        expression = str(operands[0])\n",
    "        for i, operator in enumerate(operator_option):\n",
    "            expression = str(expression)\n",
    "            if operator == '||':\n",
    "                expression = eval(expression + str(operands[i + 1]))\n",
    "            else:\n",
    "                expression = eval(expression + operator + str(operands[i + 1]))\n",
    "        if expression == answer:\n",
    "            is_valid = True\n",
    "            break\n",
    "    return is_valid"
   ]
  },
  {
   "cell_type": "code",
   "execution_count": 109,
   "metadata": {},
   "outputs": [],
   "source": [
    "valid_answers = []\n",
    "for line in lines:\n",
    "    answer = line[0]\n",
    "    operands = line[1]\n",
    "\n",
    "    operator_options = list(it.product([\"+\", \"*\"], repeat=len(operands) - 1))\n",
    "\n",
    "    line_is_valid = check_is_valid(answer, operands, operator_options)\n",
    "\n",
    "    if line_is_valid:\n",
    "        valid_answers.append(answer)"
   ]
  },
  {
   "cell_type": "code",
   "execution_count": 110,
   "metadata": {},
   "outputs": [
    {
     "data": {
      "text/plain": [
       "42283209483350"
      ]
     },
     "execution_count": 110,
     "metadata": {},
     "output_type": "execute_result"
    }
   ],
   "source": [
    "sum(valid_answers)"
   ]
  },
  {
   "cell_type": "markdown",
   "metadata": {},
   "source": [
    "# Part 2"
   ]
  },
  {
   "cell_type": "code",
   "execution_count": 111,
   "metadata": {},
   "outputs": [
    {
     "name": "stderr",
     "output_type": "stream",
     "text": [
      "100%|██████████| 850/850 [05:41<00:00,  2.49it/s]\n"
     ]
    }
   ],
   "source": [
    "valid_answers = []\n",
    "for line in tqdm(lines):\n",
    "    answer = line[0]\n",
    "    operands = line[1]\n",
    "\n",
    "    operator_options = list(it.product([\"+\", \"*\", '||'], repeat=len(operands) - 1))\n",
    "\n",
    "    line_is_valid = check_is_valid(answer, operands, operator_options)\n",
    "\n",
    "    if line_is_valid:\n",
    "        valid_answers.append(answer)"
   ]
  },
  {
   "cell_type": "code",
   "execution_count": 112,
   "metadata": {},
   "outputs": [
    {
     "data": {
      "text/plain": [
       "1026766857276279"
      ]
     },
     "execution_count": 112,
     "metadata": {},
     "output_type": "execute_result"
    }
   ],
   "source": [
    "sum(valid_answers)"
   ]
  },
  {
   "cell_type": "code",
   "execution_count": null,
   "metadata": {},
   "outputs": [],
   "source": []
  }
 ],
 "metadata": {
  "kernelspec": {
   "display_name": ".venv",
   "language": "python",
   "name": "python3"
  },
  "language_info": {
   "codemirror_mode": {
    "name": "ipython",
    "version": 3
   },
   "file_extension": ".py",
   "mimetype": "text/x-python",
   "name": "python",
   "nbconvert_exporter": "python",
   "pygments_lexer": "ipython3",
   "version": "3.11.2"
  }
 },
 "nbformat": 4,
 "nbformat_minor": 2
}
